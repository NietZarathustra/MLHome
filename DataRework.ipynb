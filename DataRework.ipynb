{
 "cells": [
  {
   "cell_type": "code",
   "execution_count": 7,
   "id": "initial_id",
   "metadata": {
    "collapsed": true,
    "ExecuteTime": {
     "end_time": "2024-12-22T14:15:27.145536Z",
     "start_time": "2024-12-22T14:15:26.864549Z"
    }
   },
   "outputs": [
    {
     "name": "stdout",
     "output_type": "stream",
     "text": [
      "Path to dataset files: C:\\Users\\glaed\\.cache\\kagglehub\\datasets\\malaiarasugraj\\global-health-statistics\\versions\\1\n"
     ]
    }
   ],
   "source": [
    "import numpy\n",
    "import kagglehub\n",
    "\n",
    "# Download latest version\n",
    "relative_path = \"malaiarasugraj/global-health-statistics\"\n",
    "path = kagglehub.dataset_download(relative_path)\n",
    "print(\"Path to dataset files:\", path)"
   ]
  },
  {
   "cell_type": "code",
   "outputs": [
    {
     "ename": "PermissionError",
     "evalue": "[Errno 13] Permission denied: 'C:\\\\Users\\\\glaed\\\\.cache\\\\kagglehub\\\\datasets\\\\malaiarasugraj\\\\global-health-statistics\\\\versions\\\\1'",
     "output_type": "error",
     "traceback": [
      "\u001B[1;31m---------------------------------------------------------------------------\u001B[0m",
      "\u001B[1;31mPermissionError\u001B[0m                           Traceback (most recent call last)",
      "Cell \u001B[1;32mIn[4], line 4\u001B[0m\n\u001B[0;32m      1\u001B[0m \u001B[38;5;28;01mimport\u001B[39;00m \u001B[38;5;21;01mcsv\u001B[39;00m\n\u001B[0;32m      3\u001B[0m \u001B[38;5;66;03m# CSV-Datei öffnen und lesen\u001B[39;00m\n\u001B[1;32m----> 4\u001B[0m \u001B[38;5;28;01mwith\u001B[39;00m \u001B[38;5;28;43mopen\u001B[39;49m\u001B[43m(\u001B[49m\u001B[43mpath\u001B[49m\u001B[43m,\u001B[49m\u001B[43m \u001B[49m\u001B[43mmode\u001B[49m\u001B[38;5;241;43m=\u001B[39;49m\u001B[38;5;124;43m'\u001B[39;49m\u001B[38;5;124;43mr\u001B[39;49m\u001B[38;5;124;43m'\u001B[39;49m\u001B[43m,\u001B[49m\u001B[43m \u001B[49m\u001B[43mencoding\u001B[49m\u001B[38;5;241;43m=\u001B[39;49m\u001B[38;5;124;43m'\u001B[39;49m\u001B[38;5;124;43mutf-8\u001B[39;49m\u001B[38;5;124;43m'\u001B[39;49m\u001B[43m)\u001B[49m \u001B[38;5;28;01mas\u001B[39;00m file:\n\u001B[0;32m      5\u001B[0m     reader \u001B[38;5;241m=\u001B[39m csv\u001B[38;5;241m.\u001B[39mreader(file)\n\u001B[0;32m      6\u001B[0m     \u001B[38;5;66;03m# Überspringe die Kopfzeile (optional)\u001B[39;00m\n",
      "File \u001B[1;32m~\\PycharmProjects\\MLHome\\.venv\\Lib\\site-packages\\IPython\\core\\interactiveshell.py:324\u001B[0m, in \u001B[0;36m_modified_open\u001B[1;34m(file, *args, **kwargs)\u001B[0m\n\u001B[0;32m    317\u001B[0m \u001B[38;5;28;01mif\u001B[39;00m file \u001B[38;5;129;01min\u001B[39;00m {\u001B[38;5;241m0\u001B[39m, \u001B[38;5;241m1\u001B[39m, \u001B[38;5;241m2\u001B[39m}:\n\u001B[0;32m    318\u001B[0m     \u001B[38;5;28;01mraise\u001B[39;00m \u001B[38;5;167;01mValueError\u001B[39;00m(\n\u001B[0;32m    319\u001B[0m         \u001B[38;5;124mf\u001B[39m\u001B[38;5;124m\"\u001B[39m\u001B[38;5;124mIPython won\u001B[39m\u001B[38;5;124m'\u001B[39m\u001B[38;5;124mt let you open fd=\u001B[39m\u001B[38;5;132;01m{\u001B[39;00mfile\u001B[38;5;132;01m}\u001B[39;00m\u001B[38;5;124m by default \u001B[39m\u001B[38;5;124m\"\u001B[39m\n\u001B[0;32m    320\u001B[0m         \u001B[38;5;124m\"\u001B[39m\u001B[38;5;124mas it is likely to crash IPython. If you know what you are doing, \u001B[39m\u001B[38;5;124m\"\u001B[39m\n\u001B[0;32m    321\u001B[0m         \u001B[38;5;124m\"\u001B[39m\u001B[38;5;124myou can use builtins\u001B[39m\u001B[38;5;124m'\u001B[39m\u001B[38;5;124m open.\u001B[39m\u001B[38;5;124m\"\u001B[39m\n\u001B[0;32m    322\u001B[0m     )\n\u001B[1;32m--> 324\u001B[0m \u001B[38;5;28;01mreturn\u001B[39;00m \u001B[43mio_open\u001B[49m\u001B[43m(\u001B[49m\u001B[43mfile\u001B[49m\u001B[43m,\u001B[49m\u001B[43m \u001B[49m\u001B[38;5;241;43m*\u001B[39;49m\u001B[43margs\u001B[49m\u001B[43m,\u001B[49m\u001B[43m \u001B[49m\u001B[38;5;241;43m*\u001B[39;49m\u001B[38;5;241;43m*\u001B[39;49m\u001B[43mkwargs\u001B[49m\u001B[43m)\u001B[49m\n",
      "\u001B[1;31mPermissionError\u001B[0m: [Errno 13] Permission denied: 'C:\\\\Users\\\\glaed\\\\.cache\\\\kagglehub\\\\datasets\\\\malaiarasugraj\\\\global-health-statistics\\\\versions\\\\1'"
     ]
    }
   ],
   "source": [
    "import csv\n",
    "\n",
    "# CSV-Datei öffnen und lesen\n",
    "with open(path, mode='r', encoding='utf-8') as file:\n",
    "    reader = csv.reader(file)\n",
    "    # Überspringe die Kopfzeile (optional)\n",
    "    header = next(reader)\n",
    "    print(\"Header:\", header)\n",
    "    \n",
    "    # Daten zeilenweise ausgeben\n",
    "    for row in reader:\n",
    "        print(row)"
   ],
   "metadata": {
    "collapsed": false,
    "ExecuteTime": {
     "end_time": "2024-12-22T13:37:42.606224Z",
     "start_time": "2024-12-22T13:37:42.585657Z"
    }
   },
   "id": "3e53043708696443",
   "execution_count": 4
  },
  {
   "cell_type": "markdown",
   "source": [],
   "metadata": {
    "collapsed": false
   },
   "id": "ace882f7baebc007"
  },
  {
   "cell_type": "code",
   "outputs": [
    {
     "name": "stdout",
     "output_type": "stream",
     "text": [
      "Datenvorschau:\n",
      "     Country  Year         Disease Name Disease Category  Prevalence Rate (%)  \\\n",
      "0      Italy  2013              Malaria      Respiratory                 0.95   \n",
      "1     France  2002                Ebola        Parasitic                12.46   \n",
      "2     Turkey  2015             COVID-19          Genetic                 0.91   \n",
      "3  Indonesia  2011  Parkinson's Disease       Autoimmune                 4.68   \n",
      "4      Italy  2013         Tuberculosis          Genetic                 0.83   \n",
      "\n",
      "   Incidence Rate (%)  Mortality Rate (%) Age Group Gender  \\\n",
      "0                1.55                8.42      0-18   Male   \n",
      "1                8.63                8.75       61+   Male   \n",
      "2                2.35                6.22     36-60   Male   \n",
      "3                6.29                3.99      0-18  Other   \n",
      "4               13.59                7.01       61+   Male   \n",
      "\n",
      "   Population Affected  ...  Hospital Beds per 1000  Treatment Type  \\\n",
      "0               471007  ...                    7.58      Medication   \n",
      "1               634318  ...                    5.11         Surgery   \n",
      "2               154878  ...                    3.49     Vaccination   \n",
      "3               446224  ...                    8.44         Surgery   \n",
      "4               472908  ...                    5.90      Medication   \n",
      "\n",
      "   Average Treatment Cost (USD) Availability of Vaccines/Treatment  \\\n",
      "0                         21064                                 No   \n",
      "1                         47851                                Yes   \n",
      "2                         27834                                Yes   \n",
      "3                           144                                Yes   \n",
      "4                          8908                                Yes   \n",
      "\n",
      "   Recovery Rate (%) DALYs  Improvement in 5 Years (%)  \\\n",
      "0              91.82  4493                        2.16   \n",
      "1              76.65  2366                        4.82   \n",
      "2              98.55    41                        5.81   \n",
      "3              67.35  3201                        2.22   \n",
      "4              50.06  2832                        6.93   \n",
      "\n",
      "   Per Capita Income (USD)  Education Index  Urbanization Rate (%)  \n",
      "0                    16886             0.79                  86.02  \n",
      "1                    80639             0.74                  45.52  \n",
      "2                    12245             0.41                  40.20  \n",
      "3                    49336             0.49                  58.47  \n",
      "4                    47701             0.50                  48.14  \n",
      "\n",
      "[5 rows x 22 columns]\n"
     ]
    }
   ],
   "source": [
    "import pandas as pd\n",
    "import os\n",
    "file_names = files = os.listdir(path)\n",
    "file_name=file_names[0]\n",
    "df = pd.read_csv(path+\"\\\\\"+file_name)\n",
    "print(\"Datenvorschau:\")\n",
    "print(df.head())  # Zeigt die ersten 5 Zeilen der CSV-Datei"
   ],
   "metadata": {
    "collapsed": false,
    "ExecuteTime": {
     "end_time": "2024-12-22T14:20:19.478426Z",
     "start_time": "2024-12-22T14:20:17.624247Z"
    }
   },
   "id": "4c5a08eff9bf72fa",
   "execution_count": 12
  }
 ],
 "metadata": {
  "kernelspec": {
   "display_name": "Python 3",
   "language": "python",
   "name": "python3"
  },
  "language_info": {
   "codemirror_mode": {
    "name": "ipython",
    "version": 2
   },
   "file_extension": ".py",
   "mimetype": "text/x-python",
   "name": "python",
   "nbconvert_exporter": "python",
   "pygments_lexer": "ipython2",
   "version": "2.7.6"
  }
 },
 "nbformat": 4,
 "nbformat_minor": 5
}
